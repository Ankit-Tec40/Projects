{
 "cells": [
  {
   "cell_type": "markdown",
   "metadata": {},
   "source": [
    "Output==  1. error 2. change in error\n",
    "\n",
    "Vl=Vr=80Km/h"
   ]
  },
  {
   "cell_type": "code",
   "execution_count": null,
   "metadata": {},
   "outputs": [],
   "source": [
    "Vl=80\n",
    "Vr=80\n"
   ]
  }
 ],
 "metadata": {
  "language_info": {
   "name": "python"
  },
  "orig_nbformat": 4
 },
 "nbformat": 4,
 "nbformat_minor": 2
}
