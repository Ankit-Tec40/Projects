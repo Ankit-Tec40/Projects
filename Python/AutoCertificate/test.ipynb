{
 "metadata": {
  "language_info": {
   "codemirror_mode": {
    "name": "ipython",
    "version": 3
   },
   "file_extension": ".py",
   "mimetype": "text/x-python",
   "name": "python",
   "nbconvert_exporter": "python",
   "pygments_lexer": "ipython3",
   "version": "3.9.5"
  },
  "orig_nbformat": 4,
  "kernelspec": {
   "name": "python3",
   "display_name": "Python 3.9.5 64-bit"
  },
  "interpreter": {
   "hash": "9552b8190f63102abce783a036fdab59c8fbd44b305ff071c472b263e7af8b3a"
  }
 },
 "nbformat": 4,
 "nbformat_minor": 2,
 "cells": [
  {
   "cell_type": "code",
   "execution_count": null,
   "source": [
    "#complete"
   ],
   "outputs": [],
   "metadata": {}
  },
  {
   "cell_type": "code",
   "execution_count": 1,
   "source": [
    "import pandas as pd\r\n",
    "import os\r\n",
    "from PIL import Image,ImageDraw,ImageFont\r\n",
    "df=pd.read_csv('names.csv')\r\n",
    "font=ImageFont.truetype('arial.ttf',60)\r\n",
    "for index,j in df.iterrows():\r\n",
    "    img=Image.open('Image.jpg')\r\n",
    "    draw=ImageDraw.Draw(img)\r\n",
    "    draw.text(xy=(1375,835),text='{}'.format(j['name']),fill=(0,0,0),font=font)\r\n",
    "    img.save('pictures/{}.jpg'.format(j['name']))\r\n"
   ],
   "outputs": [],
   "metadata": {}
  },
  {
   "cell_type": "code",
   "execution_count": null,
   "source": [],
   "outputs": [],
   "metadata": {}
  }
 ]
}